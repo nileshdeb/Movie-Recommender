{
 "cells": [
  {
   "cell_type": "code",
   "execution_count": null,
   "metadata": {},
   "outputs": [],
   "source": [
    "import cv2\n",
    "\n",
    "# Load the image (Ensure 'rose.jpg' is in the same directory or provide the full path)\n",
    "image = cv2.imread(r\"C:\\Users\\NILESH\\Pictures\\nilesh.jpg\")\n",
    "\n",
    "# Check if the image is loaded correctly\n",
    "if image is None:\n",
    "    print(\"Error: Could not read the image. Check the file path.\")\n",
    "else:\n",
    "    # Display the image\n",
    "    cv2.imshow(\"Rose Image\", image)\n",
    "    \n",
    "    # Wait for a key press and close the window\n",
    "    cv2.waitKey(0)\n",
    "    cv2.destroyAllWindows()\n"
   ]
  },
  {
   "cell_type": "code",
   "execution_count": null,
   "metadata": {},
   "outputs": [],
   "source": [
    "import cv2\n",
    "import numpy as np\n",
    "\n",
    "# Load the image\n",
    "image = cv2.imread(r\"C:\\Users\\NILESH\\Pictures\\rimon.jpg\")\n",
    "\n",
    "# Check if the image is loaded correctly\n",
    "if image is None:\n",
    "    print(\"Error: Could not read the image. Check the file path.\")\n",
    "else:\n",
    "    # Convert image to HSV (Hue, Saturation, Value)\n",
    "    hsv = cv2.cvtColor(image, cv2.COLOR_BGR2HSV)\n",
    "    \n",
    "    # Split channels\n",
    "    h, s, v = cv2.split(hsv)\n",
    "    \n",
    "    # Increase brightness by 50 (clip to keep values in [0,255])\n",
    "    v = np.clip(v + 50, 0, 255)\n",
    "    \n",
    "    # Merge back the channels\n",
    "    bright_hsv = cv2.merge((h, s, v))\n",
    "    \n",
    "    # Convert back to BGR color space\n",
    "    bright_image = cv2.cvtColor(bright_hsv, cv2.COLOR_HSV2BGR)\n",
    "\n",
    "    # Display the original and brightened images\n",
    "    cv2.imshow(\"Original Image\", image)\n",
    "    cv2.imshow(\"Brightened Image (+50)\", bright_image)\n",
    "\n",
    "    # Wait and close windows\n",
    "    cv2.waitKey(0)\n",
    "    cv2.destroyAllWindows()\n"
   ]
  },
  {
   "cell_type": "code",
   "execution_count": null,
   "metadata": {},
   "outputs": [],
   "source": [
    "import cv2\n",
    "import numpy as np\n",
    "\n",
    "# Load the image\n",
    "image = cv2.imread(\"C:\\Users\\NILESH\\Pictures\\rimon.jpg\")\n",
    "\n",
    "# Check if the image is loaded correctly\n",
    "if image is None:\n",
    "    print(\"Error: Could not read the image. Check the file path.\")\n",
    "else:\n",
    "    # Convert image to HSV (Hue, Saturation, Value)\n",
    "    hsv = cv2.cvtColor(image, cv2.COLOR_BGR2HSV)\n",
    "    \n",
    "    # Split channels\n",
    "    h, s, v = cv2.split(hsv)\n",
    "    \n",
    "    # Increase brightness by 30 (clip to keep values in [0,255])\n",
    "    v = np.clip(v + 30, 0, 255)\n",
    "    \n",
    "    # Merge back the channels\n",
    "    bright_hsv = cv2.merge((h, s, v))\n",
    "    \n",
    "    # Convert back to BGR color space\n",
    "    bright_image_30 = cv2.cvtColor(bright_hsv, cv2.COLOR_HSV2BGR)\n",
    "\n",
    "    # Display the original and brightened images\n",
    "    cv2.imshow(\"Original Image\", image)\n",
    "    cv2.imshow(\"Brightened Image (+30)\", bright_image_30)\n",
    "\n",
    "    # Wait and close windows\n",
    "    cv2.waitKey(0)\n",
    "    cv2.destroyAllWindows()\n"
   ]
  }
 ],
 "metadata": {
  "kernelspec": {
   "display_name": "base",
   "language": "python",
   "name": "python3"
  },
  "language_info": {
   "codemirror_mode": {
    "name": "ipython",
    "version": 3
   },
   "file_extension": ".py",
   "mimetype": "text/x-python",
   "name": "python",
   "nbconvert_exporter": "python",
   "pygments_lexer": "ipython3",
   "version": "3.11.5"
  }
 },
 "nbformat": 4,
 "nbformat_minor": 2
}
